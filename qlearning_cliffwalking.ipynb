{
 "cells": [
  {
   "cell_type": "code",
   "execution_count": 1,
   "metadata": {},
   "outputs": [],
   "source": [
    "import gymnasium as gym\n",
    "import numpy as np\n",
    "import matplotlib.pyplot as plt\n",
    "\n",
    "import utils.plots_cliffwalking as plots\n",
    "\n",
    "from env.cliff_walking import WindyCliffWalking\n",
    "from importlib import reload"
   ]
  },
  {
   "cell_type": "markdown",
   "metadata": {},
   "source": [
    "# Solving Cliff Walking with Tabular Q-Learning\n",
    "\n",
    "The [Cliff Walking](https://gymnasium.farama.org/environments/toy_text/cliff_walking/) environment is one of the simplest in reinforcement learning (RL), making it perfect for understanding the basics of tabular Q-Learning, a foundational algorithm for beginners. The premise of Cliff Walking is straightforward: the agent must navigate a grid from start to finish while avoiding falling off a cliff. If the agent falls, it is sent back to the start of the grid and receives a significant reward penalty.\n",
    "\n",
    "<img src=\"media/cliff_walking.gif\" width=\"200\">\n",
    "Here are some key details for modeling the environment as a Markov Decision Process (MDP):\n",
    "\n",
    "Action Space\n",
    "The action space is discrete and consists of integers in the range {0, 3}. Each action corresponds to a movement direction:\n",
    "\n",
    "* 0: Up\n",
    "* 1: Right\n",
    "* 2: Down\n",
    "* 3: Left\n",
    "\n",
    "### State Space\n",
    "\n",
    "The state represents the agent's position on the grid. The state space is also discrete, containing integers in the range {0, 47}. The numerical value of the agent’s position on the grid can be calculated using the formula:\n",
    "current_row * nrows + column,\n",
    "where rows and columns are zero-indexed.\n",
    "\n",
    "### Rewards\n",
    "The agent incurs a penalty of -1 for every move. Falling into the cliff results in a penalty of -100.\n"
   ]
  },
  {
   "cell_type": "code",
   "execution_count": 2,
   "metadata": {},
   "outputs": [],
   "source": [
    "cliff_walking = gym.make('CliffWalking-v0')"
   ]
  },
  {
   "cell_type": "markdown",
   "metadata": {},
   "source": [
    "## Creating the Q-Value Table\n",
    "\n",
    "The Q-value table takes a pair (state, action) as input and returns the Q-value for that pair. A Q-value can be interpreted as \"the expected total accumulated reward for taking action A in state S and then following the same policy until the end of the episode.\" Thus, we need one row in the table for each of the 48 states, with each row containing a column for each of the 4 possible actions. Additionally, the Q-values should be initialized with a default value (0.1 in our implementation).\n",
    "\n",
    "<figure>\n",
    "    <img src=\"media/qtable.png\" alt=\"sample qtable\" width=\"400\">\n",
    "    <figcaption> Exemplo de tabela de Qvalores. Fonte: <a href=\"https://www.datacamp.com/tutorial/introduction-q-learning-beginner-tutorial\"> Datacamp </a> </figcaption>\n",
    "</figure>"
   ]
  },
  {
   "cell_type": "code",
   "execution_count": 3,
   "metadata": {},
   "outputs": [],
   "source": [
    "def new_q_table(n_states, n_actions):\n",
    "    return np.full((n_states, n_actions), 0.1)"
   ]
  },
  {
   "cell_type": "markdown",
   "metadata": {},
   "source": [
    "## Sampling Actions with the $\\epsilon$-Greedy Policy\n",
    "\n",
    "At the end of training, the best action for each state is expected to be the one with the highest Q-value. However, for Q-Learning to converge properly, it is crucial for the agent to thoroughly \"explore\" the environment at the beginning of training. This means visiting a wide range of states, even if they are not necessarily optimal. A widely used technique to achieve this is the $\\epsilon$-greedy policy. It works by forcing the agent to choose random actions with a certain frequency, which gradually decreases as training progresses."
   ]
  },
  {
   "cell_type": "code",
   "execution_count": 4,
   "metadata": {},
   "outputs": [],
   "source": [
    "def get_action(q_table, state, epsilon):\n",
    "    if np.random.random() < epsilon:\n",
    "        return np.random.randint(0, q_table.shape[1])\n",
    "    return np.argmax(q_table[state])"
   ]
  },
  {
   "cell_type": "markdown",
   "metadata": {},
   "source": [
    "## Updating Q-Values Using the Bellman Equation\n",
    "\n",
    "At each step of training, the agent will take an action and use the information returned by the environment to update its Q-values, thus learning the optimal table. The update of the Q-values is performed using the Bellman equation:\n",
    "\n",
    "$$Q_{t+1}(s_t, a_t) = (1-\\alpha) Q_t (s_t, a_t) + \\alpha (R_{t+1} + \\gamma \\max_{a} Q_t (s_{t+1}, a))$$"
   ]
  },
  {
   "cell_type": "code",
   "execution_count": 5,
   "metadata": {},
   "outputs": [],
   "source": [
    "def update_q_table(q_table, state, action, reward, next_state, terminated, alpha, gamma):\n",
    "    if terminated:\n",
    "        q_table[next_state] = np.zeros(q_table.shape[1]) # expected reward fof final state is 0\n",
    "\n",
    "    q_table[state, action] = (1 - alpha) * q_table[state, action] + alpha * (reward + gamma * np.max(q_table[next_state]))\n",
    "    return q_table"
   ]
  },
  {
   "cell_type": "markdown",
   "metadata": {},
   "source": [
    "## Training Loop\n",
    "\n",
    "In the training loop, we will combine all the functions developed so far. The main idea is to define a maximum number of episodes (from the initial stage to the final stage) so that the agent collects experiences from the environment and optimizes its Q-value table."
   ]
  },
  {
   "cell_type": "code",
   "execution_count": 6,
   "metadata": {},
   "outputs": [],
   "source": [
    "def train(env: gym.Env, \n",
    "          q_table,\n",
    "          n_episodes=5000, # max episode number\n",
    "          epsilon=0.99, # initial probability of taking a random action \n",
    "          epsilon_decay=0.999, # random action probability decay factor\n",
    "          alpha=0.75, # learning rate\n",
    "          gamma=0.99, # discount rate\n",
    "          verbose=False):\n",
    "     \n",
    "    for episode in range(n_episodes):\n",
    "        state, _ = env.reset()\n",
    "        total_reward = 0\n",
    "        step = 0\n",
    "        done = False\n",
    "\n",
    "        if epsilon > 0.001:\n",
    "            epsilon *= epsilon_decay\n",
    "        \n",
    "        while not done and step < 500: # 1000 steps max\n",
    "            action = get_action(q_table, state, epsilon)\n",
    "            next_state, reward, terminated, truncated, _ = env.step(action)\n",
    "            q_table = update_q_table(q_table, state, action, reward, next_state, terminated, alpha, gamma)\n",
    "            state = next_state\n",
    "            total_reward += reward\n",
    "\n",
    "            done = terminated or truncated\n",
    "            step += 1\n",
    "            \n",
    "        if episode % 100 == 0 and verbose:\n",
    "            print(f\"Episode {episode} - Total reward: {total_reward} - epsilon: {epsilon}\")\n",
    "\n",
    "    return q_table"
   ]
  },
  {
   "cell_type": "markdown",
   "metadata": {},
   "source": [
    "## Training\n",
    "\n",
    "Everything is set up, so now we can run the algorithm!"
   ]
  },
  {
   "cell_type": "code",
   "execution_count": 7,
   "metadata": {},
   "outputs": [
    {
     "name": "stdout",
     "output_type": "stream",
     "text": [
      "Episode 0 - Total reward: -5747 - epsilon: 0.98901\n",
      "Episode 100 - Total reward: -2069 - epsilon: 0.8948484814169296\n",
      "Episode 200 - Total reward: -152 - epsilon: 0.8096518788426657\n",
      "Episode 300 - Total reward: -582 - epsilon: 0.7325666618727043\n",
      "Episode 400 - Total reward: -751 - epsilon: 0.6628205628997266\n",
      "Episode 500 - Total reward: -128 - epsilon: 0.5997148402571608\n",
      "Episode 600 - Total reward: -136 - epsilon: 0.5426172779722319\n",
      "Episode 700 - Total reward: -747 - epsilon: 0.4909558519974922\n",
      "Episode 800 - Total reward: -557 - epsilon: 0.4442129994668515\n",
      "Episode 900 - Total reward: -19 - epsilon: 0.40192043356343343\n",
      "Episode 1000 - Total reward: -25 - epsilon: 0.3636544520527319\n",
      "Episode 1100 - Total reward: -123 - epsilon: 0.3290316924802508\n",
      "Episode 1200 - Total reward: -125 - epsilon: 0.2977052915076636\n",
      "Episode 1300 - Total reward: -129 - epsilon: 0.26936140991033175\n",
      "Episode 1400 - Total reward: -133 - epsilon: 0.24371608842234507\n",
      "Episode 1500 - Total reward: -20 - epsilon: 0.22051240292980812\n",
      "Episode 1600 - Total reward: -15 - epsilon: 0.1995178905120644\n",
      "Episode 1700 - Total reward: -13 - epsilon: 0.1805222205440088\n",
      "Episode 1800 - Total reward: -226 - epsilon: 0.16333508752774822\n",
      "Episode 1900 - Total reward: -19 - epsilon: 0.1477843045432369\n",
      "Episode 2000 - Total reward: -226 - epsilon: 0.13371407821738157\n",
      "Episode 2100 - Total reward: -15 - epsilon: 0.1209834479296351\n",
      "Episode 2200 - Total reward: -15 - epsilon: 0.10946487361747416\n",
      "Episode 2300 - Total reward: -116 - epsilon: 0.09904295803388524\n",
      "Episode 2400 - Total reward: -13 - epsilon: 0.08961329065597211\n",
      "Episode 2500 - Total reward: -13 - epsilon: 0.08108140166254191\n",
      "Episode 2600 - Total reward: -13 - epsilon: 0.07336181550124031\n",
      "Episode 2700 - Total reward: -15 - epsilon: 0.06637719456352702\n",
      "Episode 2800 - Total reward: -13 - epsilon: 0.06005756438851805\n",
      "Episode 2900 - Total reward: -13 - epsilon: 0.054339612633507076\n",
      "Episode 3000 - Total reward: -13 - epsilon: 0.04916605478799809\n",
      "Episode 3100 - Total reward: -13 - epsilon: 0.044485060276743045\n",
      "Episode 3200 - Total reward: -13 - epsilon: 0.0402497332022771\n",
      "Episode 3300 - Total reward: -13 - epsilon: 0.03641764252484226\n",
      "Episode 3400 - Total reward: -13 - epsilon: 0.032950396972871554\n",
      "Episode 3500 - Total reward: -13 - epsilon: 0.02981326042533348\n",
      "Episode 3600 - Total reward: -13 - epsilon: 0.026974803912697635\n",
      "Episode 3700 - Total reward: -13 - epsilon: 0.02440659075014097\n",
      "Episode 3800 - Total reward: -13 - epsilon: 0.022082891648545638\n",
      "Episode 3900 - Total reward: -13 - epsilon: 0.019980426949167008\n",
      "Episode 4000 - Total reward: -13 - epsilon: 0.01807813339958545\n",
      "Episode 4100 - Total reward: -13 - epsilon: 0.016356953134418987\n",
      "Episode 4200 - Total reward: -13 - epsilon: 0.01479964274672925\n",
      "Episode 4300 - Total reward: -13 - epsilon: 0.013390600537328996\n",
      "Episode 4400 - Total reward: -13 - epsilon: 0.012115710211311893\n",
      "Episode 4500 - Total reward: -14 - epsilon: 0.010962199455900382\n",
      "Episode 4600 - Total reward: -15 - epsilon: 0.009918511982792833\n",
      "Episode 4700 - Total reward: -13 - epsilon: 0.008974191753084181\n",
      "Episode 4800 - Total reward: -13 - epsilon: 0.008119778224883169\n",
      "Episode 4900 - Total reward: -13 - epsilon: 0.007346711574179178\n"
     ]
    }
   ],
   "source": [
    "q_table = new_q_table(n_states=48, n_actions=4)\n",
    "trained_q_table = train(cliff_walking, q_table, alpha=0.75, verbose=True)"
   ]
  },
  {
   "cell_type": "markdown",
   "metadata": {},
   "source": [
    "## Testing the agent\n",
    "\n",
    "The function below will run an episode with the trained agent."
   ]
  },
  {
   "cell_type": "code",
   "execution_count": 8,
   "metadata": {},
   "outputs": [],
   "source": [
    "def test(env: gym.Env, \n",
    "          q_table,\n",
    "          n_episodes=1,\n",
    "          verbose=False\n",
    "          ):\n",
    "    \n",
    "    total_rewards = []\n",
    "    for episode in range(n_episodes):\n",
    "        state, _ = env.reset()\n",
    "        total_reward = 0\n",
    "        done = False\n",
    "        \n",
    "        while not done:\n",
    "            action = get_action(q_table, state, 0)\n",
    "            state, reward, terminated, truncated, _ = env.step(action)\n",
    "            total_reward += reward\n",
    "\n",
    "            done = terminated or truncated\n",
    "\n",
    "        if verbose:\n",
    "            print(f\"Episode {episode} - Total reward: {total_reward}\")\n",
    "            \n",
    "        total_rewards.append(total_reward)\n",
    "\n",
    "    env.close()\n",
    "    return np.average(total_reward)\n",
    "\n",
    "# test(gym.make('CliffWalking-v0', render_mode=\"human\"), trained_q_table)"
   ]
  },
  {
   "cell_type": "markdown",
   "metadata": {},
   "source": [
    "## Results Analysis\n",
    "\n",
    "### Visualizing the Policy\n",
    "\n",
    "The cell below will allow observing the most likely action to be taken in each position on the board."
   ]
  },
  {
   "cell_type": "code",
   "execution_count": 9,
   "metadata": {},
   "outputs": [
    {
     "data": {
      "image/png": "[encoded data removed]",
      "text/plain": [
       "<Figure size 640x480 with 1 Axes>"
      ]
     },
     "metadata": {},
     "output_type": "display_data"
    },
    {
     "data": {
      "text/plain": [
       "<Figure size 640x480 with 0 Axes>"
      ]
     },
     "metadata": {},
     "output_type": "display_data"
    }
   ],
   "source": [
    "reload(plots)\n",
    "plots.plot_arrows_from_qtable(trained_q_table)"
   ]
  },
  {
   "cell_type": "markdown",
   "metadata": {},
   "source": [
    "### Visualizing the Influence of the Learning Rate\n",
    "\n",
    "The cell below will create a graph showing the average total reward of a set of agents trained with different learning rates. How would you explain the results?"
   ]
  },
  {
   "cell_type": "code",
   "execution_count": 10,
   "metadata": {},
   "outputs": [
    {
     "data": {
      "image/png": "[encoded data removed]",
      "text/plain": [
       "<Figure size 640x480 with 1 Axes>"
      ]
     },
     "metadata": {},
     "output_type": "display_data"
    }
   ],
   "source": [
    "# average expected return as a function of alpha\n",
    "\n",
    "def plot_avg_return_x_alpha(n_samples=100, n_alphas=10 ):\n",
    "    avg_returns = []\n",
    "    alphas=np.linspace(0.1, 1, n_alphas)\n",
    " \n",
    "    for alpha in alphas:\n",
    "        q_table = new_q_table(n_states=48, n_actions=4)\n",
    "        trained_q_table = train(cliff_walking, q_table, alpha=alpha)\n",
    "        avg_returns.append(test(cliff_walking, trained_q_table, n_samples))\n",
    "\n",
    "    plt.plot(alphas, avg_returns)\n",
    "    plt.grid()\n",
    "    plt.show()\n",
    "\n",
    "plot_avg_return_x_alpha(n_samples=100, n_alphas=10)"
   ]
  },
  {
   "cell_type": "markdown",
   "metadata": {},
   "source": [
    "## Exercise - Non-Deterministic Environments\n",
    "Now that we have seen the agent learn a path to the goal that minimizes the distance walked and avoids the cliff, it's time to make things a bit more challenging. We will now use a modified version of Cliff Walking that adds random wind toward the cliff. In other words, there is a probability that the agent will be involuntarily displaced one step down.\n",
    "\n",
    "This change will be interesting for observing the influence of the learning rate on training a model robust to non-deterministic environments."
   ]
  },
  {
   "cell_type": "code",
   "execution_count": 11,
   "metadata": {},
   "outputs": [
    {
     "name": "stdout",
     "output_type": "stream",
     "text": [
      "Episode 0 - Total reward: -6935 - epsilon: 0.98901\n",
      "Episode 100 - Total reward: -6044 - epsilon: 0.8948484814169296\n",
      "Episode 200 - Total reward: -4856 - epsilon: 0.8096518788426657\n",
      "Episode 300 - Total reward: -5747 - epsilon: 0.7325666618727043\n",
      "Episode 400 - Total reward: -3866 - epsilon: 0.6628205628997266\n",
      "Episode 500 - Total reward: -3965 - epsilon: 0.5997148402571608\n",
      "Episode 600 - Total reward: -3866 - epsilon: 0.5426172779722319\n",
      "Episode 700 - Total reward: -5054 - epsilon: 0.4909558519974922\n",
      "Episode 800 - Total reward: -1243 - epsilon: 0.4442129994668515\n",
      "Episode 900 - Total reward: -2054 - epsilon: 0.40192043356343343\n",
      "Episode 1000 - Total reward: -1600 - epsilon: 0.3636544520527319\n",
      "Episode 1100 - Total reward: -2233 - epsilon: 0.3290316924802508\n",
      "Episode 1200 - Total reward: -404 - epsilon: 0.2977052915076636\n",
      "Episode 1300 - Total reward: -1241 - epsilon: 0.26936140991033175\n",
      "Episode 1400 - Total reward: -1260 - epsilon: 0.24371608842234507\n",
      "Episode 1500 - Total reward: -31 - epsilon: 0.22051240292980812\n",
      "Episode 1600 - Total reward: -520 - epsilon: 0.1995178905120644\n",
      "Episode 1700 - Total reward: -724 - epsilon: 0.1805222205440088\n",
      "Episode 1800 - Total reward: -169 - epsilon: 0.16333508752774822\n",
      "Episode 1900 - Total reward: -154 - epsilon: 0.1477843045432369\n",
      "Episode 2000 - Total reward: -480 - epsilon: 0.13371407821738157\n",
      "Episode 2100 - Total reward: -39 - epsilon: 0.1209834479296351\n",
      "Episode 2200 - Total reward: -136 - epsilon: 0.10946487361747416\n",
      "Episode 2300 - Total reward: -30 - epsilon: 0.09904295803388524\n",
      "Episode 2400 - Total reward: -253 - epsilon: 0.08961329065597211\n",
      "Episode 2500 - Total reward: -21 - epsilon: 0.08108140166254191\n",
      "Episode 2600 - Total reward: -32 - epsilon: 0.07336181550124031\n",
      "Episode 2700 - Total reward: -27 - epsilon: 0.06637719456352702\n",
      "Episode 2800 - Total reward: -16 - epsilon: 0.06005756438851805\n",
      "Episode 2900 - Total reward: -36 - epsilon: 0.054339612633507076\n",
      "Episode 3000 - Total reward: -33 - epsilon: 0.04916605478799809\n",
      "Episode 3100 - Total reward: -31 - epsilon: 0.044485060276743045\n",
      "Episode 3200 - Total reward: -26 - epsilon: 0.0402497332022771\n",
      "Episode 3300 - Total reward: -25 - epsilon: 0.03641764252484226\n",
      "Episode 3400 - Total reward: -64 - epsilon: 0.032950396972871554\n",
      "Episode 3500 - Total reward: -38 - epsilon: 0.02981326042533348\n",
      "Episode 3600 - Total reward: -29 - epsilon: 0.026974803912697635\n",
      "Episode 3700 - Total reward: -22 - epsilon: 0.02440659075014097\n",
      "Episode 3800 - Total reward: -27 - epsilon: 0.022082891648545638\n",
      "Episode 3900 - Total reward: -24 - epsilon: 0.019980426949167008\n",
      "Episode 4000 - Total reward: -19 - epsilon: 0.01807813339958545\n",
      "Episode 4100 - Total reward: -28 - epsilon: 0.016356953134418987\n",
      "Episode 4200 - Total reward: -24 - epsilon: 0.01479964274672925\n",
      "Episode 4300 - Total reward: -20 - epsilon: 0.013390600537328996\n",
      "Episode 4400 - Total reward: -34 - epsilon: 0.012115710211311893\n",
      "Episode 4500 - Total reward: -28 - epsilon: 0.010962199455900382\n",
      "Episode 4600 - Total reward: -25 - epsilon: 0.009918511982792833\n",
      "Episode 4700 - Total reward: -22 - epsilon: 0.008974191753084181\n",
      "Episode 4800 - Total reward: -20 - epsilon: 0.008119778224883169\n",
      "Episode 4900 - Total reward: -31 - epsilon: 0.007346711574179178\n"
     ]
    }
   ],
   "source": [
    "windy_cliff_walking = WindyCliffWalking(wind=0.5)\n",
    "\n",
    "windy_q_table = new_q_table(n_states=48, n_actions=4)\n",
    "trained_windy_q_table = train(windy_cliff_walking, windy_q_table, alpha=0.75, verbose=True)"
   ]
  },
  {
   "cell_type": "markdown",
   "metadata": {},
   "source": [
    "### Results"
   ]
  },
  {
   "cell_type": "code",
   "execution_count": 12,
   "metadata": {},
   "outputs": [],
   "source": [
    "windy_cliff_walking.render_mode = 'human'\n",
    "# test(windy_cliff_walking, trained_windy_q_table)"
   ]
  },
  {
   "cell_type": "code",
   "execution_count": 13,
   "metadata": {},
   "outputs": [
    {
     "data": {
      "image/png": "[encoded data removed]",
      "text/plain": [
       "<Figure size 640x480 with 1 Axes>"
      ]
     },
     "metadata": {},
     "output_type": "display_data"
    },
    {
     "data": {
      "text/plain": [
       "<Figure size 640x480 with 0 Axes>"
      ]
     },
     "metadata": {},
     "output_type": "display_data"
    }
   ],
   "source": [
    "plots.plot_arrows_from_qtable(trained_windy_q_table)"
   ]
  },
  {
   "cell_type": "code",
   "execution_count": null,
   "metadata": {},
   "outputs": [],
   "source": []
  }
 ],
 "metadata": {
  "kernelspec": {
   "display_name": "lunar_lander",
   "language": "python",
   "name": "python3"
  },
  "language_info": {
   "codemirror_mode": {
    "name": "ipython",
    "version": 3
   },
   "file_extension": ".py",
   "mimetype": "text/x-python",
   "name": "python",
   "nbconvert_exporter": "python",
   "pygments_lexer": "ipython3",
   "version": "3.12.3"
  }
 },
 "nbformat": 4,
 "nbformat_minor": 2
}
